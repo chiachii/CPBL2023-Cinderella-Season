{
 "cells": [
  {
   "cell_type": "code",
   "execution_count": 1,
   "metadata": {},
   "outputs": [],
   "source": [
    "import numpy as np\n",
    "import pandas as pd\n",
    "from bs4 import BeautifulSoup\n",
    "from tqdm import tqdm\n",
    "import re"
   ]
  },
  {
   "cell_type": "code",
   "execution_count": 165,
   "metadata": {},
   "outputs": [
    {
     "data": {
      "text/plain": [
       "150"
      ]
     },
     "execution_count": 165,
     "metadata": {},
     "output_type": "execute_result"
    }
   ],
   "source": [
    "for idx in range(141, 151):\n",
    "    with open(f'./session/{idx}.html', 'r', encoding='utf-8') as f:\n",
    "        content = f.read()\n",
    "    soup = BeautifulSoup(content, 'html.parser')\n",
    "    # session\n",
    "    session = int(soup.find('div', {'class', 'game_info'}).text[-3:])\n",
    "session"
   ]
  },
  {
   "cell_type": "code",
   "execution_count": 2,
   "metadata": {},
   "outputs": [
    {
     "name": "stderr",
     "output_type": "stream",
     "text": [
      "  0%|          | 0/300 [00:00<?, ?it/s]"
     ]
    },
    {
     "name": "stderr",
     "output_type": "stream",
     "text": [
      "100%|██████████| 300/300 [00:31<00:00,  9.59it/s]\n"
     ]
    }
   ],
   "source": [
    "Dataset = {\n",
    "    'session': [],\n",
    "    'team': [],\n",
    "    'H': [],\n",
    "    'AB': [],\n",
    "    'BA': [],\n",
    "    'earned_runs': [],\n",
    "    'innings_pitched': [],\n",
    "    'ERA': []\n",
    "}\n",
    "for idx in tqdm(range(1, 301)):\n",
    "    with open(f'./session/{idx}.html', 'r', encoding='utf-8') as f:\n",
    "        content = f.read()\n",
    "    soup = BeautifulSoup(content, 'html.parser')\n",
    "    # session\n",
    "    session = int(soup.find('div', {'class', 'game_info'}).text[-3:])\n",
    "    for _ in range(2):\n",
    "        Dataset['session'].append(session)\n",
    "\n",
    "    for i, div in enumerate(soup.find_all('div', {'class', 'RecordTable'}), start=1):\n",
    "        # team_name\n",
    "        if i in [1, 4]: \n",
    "            team = div.find('a').text\n",
    "            Dataset['team'].append(team)\n",
    "        \n",
    "        # BA\n",
    "        if i in [2, 5]: \n",
    "            data = list(div.find('tr', {'class', 'total'}).text.split(' '))\n",
    "            AB, H = int(data[1]), int(data[3])\n",
    "            BA = H / AB\n",
    "            Dataset['AB'].append(AB)\n",
    "            Dataset['H'].append(H)\n",
    "            Dataset['BA'].append(BA)\n",
    "\n",
    "        if i in [3, 6]:\n",
    "            data = list(div.find('tr', {'class', 'total'}).text.split(' '))\n",
    "            if '/' in data[1]:\n",
    "                innings_pitched = int(data[1][:-3]) + (int(data[1][-3])/int(data[1][-1]))\n",
    "                earned_runs = int(data[-5])\n",
    "            else:\n",
    "                innings_pitched, earned_runs = int(data[1]), int(data[-5])\n",
    "            ERA = 9 * (earned_runs / innings_pitched)\n",
    "            Dataset['innings_pitched'].append(innings_pitched)\n",
    "            Dataset['earned_runs'].append(earned_runs)\n",
    "            Dataset['ERA'].append(ERA)"
   ]
  },
  {
   "cell_type": "code",
   "execution_count": 3,
   "metadata": {},
   "outputs": [
    {
     "data": {
      "text/html": [
       "<div>\n",
       "<style scoped>\n",
       "    .dataframe tbody tr th:only-of-type {\n",
       "        vertical-align: middle;\n",
       "    }\n",
       "\n",
       "    .dataframe tbody tr th {\n",
       "        vertical-align: top;\n",
       "    }\n",
       "\n",
       "    .dataframe thead th {\n",
       "        text-align: right;\n",
       "    }\n",
       "</style>\n",
       "<table border=\"1\" class=\"dataframe\">\n",
       "  <thead>\n",
       "    <tr style=\"text-align: right;\">\n",
       "      <th></th>\n",
       "      <th>session</th>\n",
       "      <th>team</th>\n",
       "      <th>H</th>\n",
       "      <th>AB</th>\n",
       "      <th>BA</th>\n",
       "      <th>earned_runs</th>\n",
       "      <th>innings_pitched</th>\n",
       "      <th>ERA</th>\n",
       "    </tr>\n",
       "  </thead>\n",
       "  <tbody>\n",
       "    <tr>\n",
       "      <th>0</th>\n",
       "      <td>1</td>\n",
       "      <td>樂天桃猿</td>\n",
       "      <td>9</td>\n",
       "      <td>33</td>\n",
       "      <td>0.272727</td>\n",
       "      <td>1</td>\n",
       "      <td>9.000000</td>\n",
       "      <td>1.000000</td>\n",
       "    </tr>\n",
       "    <tr>\n",
       "      <th>1</th>\n",
       "      <td>1</td>\n",
       "      <td>中信兄弟</td>\n",
       "      <td>6</td>\n",
       "      <td>32</td>\n",
       "      <td>0.187500</td>\n",
       "      <td>4</td>\n",
       "      <td>9.000000</td>\n",
       "      <td>4.000000</td>\n",
       "    </tr>\n",
       "    <tr>\n",
       "      <th>2</th>\n",
       "      <td>2</td>\n",
       "      <td>味全龍</td>\n",
       "      <td>16</td>\n",
       "      <td>39</td>\n",
       "      <td>0.410256</td>\n",
       "      <td>5</td>\n",
       "      <td>9.000000</td>\n",
       "      <td>5.000000</td>\n",
       "    </tr>\n",
       "    <tr>\n",
       "      <th>3</th>\n",
       "      <td>2</td>\n",
       "      <td>中信兄弟</td>\n",
       "      <td>9</td>\n",
       "      <td>36</td>\n",
       "      <td>0.250000</td>\n",
       "      <td>7</td>\n",
       "      <td>9.000000</td>\n",
       "      <td>7.000000</td>\n",
       "    </tr>\n",
       "    <tr>\n",
       "      <th>4</th>\n",
       "      <td>3</td>\n",
       "      <td>富邦悍將</td>\n",
       "      <td>11</td>\n",
       "      <td>45</td>\n",
       "      <td>0.244444</td>\n",
       "      <td>3</td>\n",
       "      <td>12.000000</td>\n",
       "      <td>2.250000</td>\n",
       "    </tr>\n",
       "    <tr>\n",
       "      <th>...</th>\n",
       "      <td>...</td>\n",
       "      <td>...</td>\n",
       "      <td>...</td>\n",
       "      <td>...</td>\n",
       "      <td>...</td>\n",
       "      <td>...</td>\n",
       "      <td>...</td>\n",
       "      <td>...</td>\n",
       "    </tr>\n",
       "    <tr>\n",
       "      <th>595</th>\n",
       "      <td>298</td>\n",
       "      <td>味全龍</td>\n",
       "      <td>11</td>\n",
       "      <td>38</td>\n",
       "      <td>0.289474</td>\n",
       "      <td>6</td>\n",
       "      <td>10.000000</td>\n",
       "      <td>5.400000</td>\n",
       "    </tr>\n",
       "    <tr>\n",
       "      <th>596</th>\n",
       "      <td>299</td>\n",
       "      <td>統一獅</td>\n",
       "      <td>10</td>\n",
       "      <td>34</td>\n",
       "      <td>0.294118</td>\n",
       "      <td>7</td>\n",
       "      <td>8.666667</td>\n",
       "      <td>7.269231</td>\n",
       "    </tr>\n",
       "    <tr>\n",
       "      <th>597</th>\n",
       "      <td>299</td>\n",
       "      <td>味全龍</td>\n",
       "      <td>16</td>\n",
       "      <td>37</td>\n",
       "      <td>0.432432</td>\n",
       "      <td>6</td>\n",
       "      <td>9.000000</td>\n",
       "      <td>6.000000</td>\n",
       "    </tr>\n",
       "    <tr>\n",
       "      <th>598</th>\n",
       "      <td>300</td>\n",
       "      <td>富邦悍將</td>\n",
       "      <td>5</td>\n",
       "      <td>32</td>\n",
       "      <td>0.156250</td>\n",
       "      <td>4</td>\n",
       "      <td>8.000000</td>\n",
       "      <td>4.500000</td>\n",
       "    </tr>\n",
       "    <tr>\n",
       "      <th>599</th>\n",
       "      <td>300</td>\n",
       "      <td>中信兄弟</td>\n",
       "      <td>8</td>\n",
       "      <td>31</td>\n",
       "      <td>0.258065</td>\n",
       "      <td>1</td>\n",
       "      <td>9.000000</td>\n",
       "      <td>1.000000</td>\n",
       "    </tr>\n",
       "  </tbody>\n",
       "</table>\n",
       "<p>600 rows × 8 columns</p>\n",
       "</div>"
      ],
      "text/plain": [
       "     session  team   H  AB        BA  earned_runs  innings_pitched       ERA\n",
       "0          1  樂天桃猿   9  33  0.272727            1         9.000000  1.000000\n",
       "1          1  中信兄弟   6  32  0.187500            4         9.000000  4.000000\n",
       "2          2   味全龍  16  39  0.410256            5         9.000000  5.000000\n",
       "3          2  中信兄弟   9  36  0.250000            7         9.000000  7.000000\n",
       "4          3  富邦悍將  11  45  0.244444            3        12.000000  2.250000\n",
       "..       ...   ...  ..  ..       ...          ...              ...       ...\n",
       "595      298   味全龍  11  38  0.289474            6        10.000000  5.400000\n",
       "596      299   統一獅  10  34  0.294118            7         8.666667  7.269231\n",
       "597      299   味全龍  16  37  0.432432            6         9.000000  6.000000\n",
       "598      300  富邦悍將   5  32  0.156250            4         8.000000  4.500000\n",
       "599      300  中信兄弟   8  31  0.258065            1         9.000000  1.000000\n",
       "\n",
       "[600 rows x 8 columns]"
      ]
     },
     "execution_count": 3,
     "metadata": {},
     "output_type": "execute_result"
    }
   ],
   "source": [
    "df = pd.DataFrame({\n",
    "    'session': Dataset['session'],\n",
    "    'team': Dataset['team'],\n",
    "    'H': Dataset['H'],\n",
    "    'AB': Dataset['AB'],\n",
    "    'BA': Dataset['BA'],\n",
    "    'earned_runs': Dataset['earned_runs'],\n",
    "    'innings_pitched': Dataset['innings_pitched'],\n",
    "    'ERA': Dataset['ERA']\n",
    "})\n",
    "df = df.replace('統一7-ELEVEn獅', '統一獅')\n",
    "df"
   ]
  },
  {
   "cell_type": "code",
   "execution_count": 4,
   "metadata": {},
   "outputs": [],
   "source": [
    "df.to_csv('./session.csv', index=False)"
   ]
  },
  {
   "cell_type": "code",
   "execution_count": 255,
   "metadata": {},
   "outputs": [
    {
     "data": {
      "text/plain": [
       "session                 108\n",
       "team                   富邦悍將\n",
       "H                        20\n",
       "AB                       43\n",
       "BA                 0.465116\n",
       "earned_runs               7\n",
       "innings_pitched         9.0\n",
       "ERA                     7.0\n",
       "Name: 214, dtype: object"
      ]
     },
     "execution_count": 255,
     "metadata": {},
     "output_type": "execute_result"
    }
   ],
   "source": [
    "df.iloc[np.argmax(df.BA)]"
   ]
  }
 ],
 "metadata": {
  "kernelspec": {
   "display_name": "Python 3",
   "language": "python",
   "name": "python3"
  },
  "language_info": {
   "codemirror_mode": {
    "name": "ipython",
    "version": 3
   },
   "file_extension": ".py",
   "mimetype": "text/x-python",
   "name": "python",
   "nbconvert_exporter": "python",
   "pygments_lexer": "ipython3",
   "version": "3.10.4"
  }
 },
 "nbformat": 4,
 "nbformat_minor": 2
}
